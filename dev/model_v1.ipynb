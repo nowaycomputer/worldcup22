{
 "cells": [
  {
   "cell_type": "code",
   "execution_count": 257,
   "metadata": {
    "_cell_guid": "b1076dfc-b9ad-4769-8c92-a6c4dae69d19",
    "_uuid": "8f2839f25d086af736a60e9eeb907d3b93b6e0e5",
    "execution": {
     "iopub.execute_input": "2021-05-03T10:24:03.686239Z",
     "iopub.status.busy": "2021-05-03T10:24:03.684567Z",
     "iopub.status.idle": "2021-05-03T10:24:03.690776Z",
     "shell.execute_reply": "2021-05-03T10:24:03.691359Z"
    },
    "papermill": {
     "duration": 0.022647,
     "end_time": "2021-05-03T10:24:03.691550",
     "exception": false,
     "start_time": "2021-05-03T10:24:03.668903",
     "status": "completed"
    },
    "tags": []
   },
   "outputs": [],
   "source": [
    "import numpy as np\n",
    "import pandas as pd\n",
    "import matplotlib.pyplot as plt\n",
    "import pprint\n",
    "import random\n",
    "from sklearn.svm import SVR\n",
    "from sklearn.preprocessing import MinMaxScaler"
   ]
  },
  {
   "cell_type": "code",
   "execution_count": 2,
   "metadata": {},
   "outputs": [
    {
     "data": {
      "text/html": [
       "<div>\n",
       "<style scoped>\n",
       "    .dataframe tbody tr th:only-of-type {\n",
       "        vertical-align: middle;\n",
       "    }\n",
       "\n",
       "    .dataframe tbody tr th {\n",
       "        vertical-align: top;\n",
       "    }\n",
       "\n",
       "    .dataframe thead th {\n",
       "        text-align: right;\n",
       "    }\n",
       "</style>\n",
       "<table border=\"1\" class=\"dataframe\">\n",
       "  <thead>\n",
       "    <tr style=\"text-align: right;\">\n",
       "      <th></th>\n",
       "      <th>date</th>\n",
       "      <th>home_team</th>\n",
       "      <th>away_team</th>\n",
       "      <th>home_score</th>\n",
       "      <th>away_score</th>\n",
       "      <th>tournament</th>\n",
       "      <th>city</th>\n",
       "      <th>country</th>\n",
       "      <th>neutral</th>\n",
       "    </tr>\n",
       "  </thead>\n",
       "  <tbody>\n",
       "    <tr>\n",
       "      <th>0</th>\n",
       "      <td>1872-11-30</td>\n",
       "      <td>Scotland</td>\n",
       "      <td>England</td>\n",
       "      <td>0.0</td>\n",
       "      <td>0.0</td>\n",
       "      <td>Friendly</td>\n",
       "      <td>Glasgow</td>\n",
       "      <td>Scotland</td>\n",
       "      <td>False</td>\n",
       "    </tr>\n",
       "    <tr>\n",
       "      <th>1</th>\n",
       "      <td>1873-03-08</td>\n",
       "      <td>England</td>\n",
       "      <td>Scotland</td>\n",
       "      <td>4.0</td>\n",
       "      <td>2.0</td>\n",
       "      <td>Friendly</td>\n",
       "      <td>London</td>\n",
       "      <td>England</td>\n",
       "      <td>False</td>\n",
       "    </tr>\n",
       "    <tr>\n",
       "      <th>2</th>\n",
       "      <td>1874-03-07</td>\n",
       "      <td>Scotland</td>\n",
       "      <td>England</td>\n",
       "      <td>2.0</td>\n",
       "      <td>1.0</td>\n",
       "      <td>Friendly</td>\n",
       "      <td>Glasgow</td>\n",
       "      <td>Scotland</td>\n",
       "      <td>False</td>\n",
       "    </tr>\n",
       "    <tr>\n",
       "      <th>3</th>\n",
       "      <td>1875-03-06</td>\n",
       "      <td>England</td>\n",
       "      <td>Scotland</td>\n",
       "      <td>2.0</td>\n",
       "      <td>2.0</td>\n",
       "      <td>Friendly</td>\n",
       "      <td>London</td>\n",
       "      <td>England</td>\n",
       "      <td>False</td>\n",
       "    </tr>\n",
       "    <tr>\n",
       "      <th>4</th>\n",
       "      <td>1876-03-04</td>\n",
       "      <td>Scotland</td>\n",
       "      <td>England</td>\n",
       "      <td>3.0</td>\n",
       "      <td>0.0</td>\n",
       "      <td>Friendly</td>\n",
       "      <td>Glasgow</td>\n",
       "      <td>Scotland</td>\n",
       "      <td>False</td>\n",
       "    </tr>\n",
       "  </tbody>\n",
       "</table>\n",
       "</div>"
      ],
      "text/plain": [
       "         date home_team away_team  home_score  away_score tournament     city  \\\n",
       "0  1872-11-30  Scotland   England         0.0         0.0   Friendly  Glasgow   \n",
       "1  1873-03-08   England  Scotland         4.0         2.0   Friendly   London   \n",
       "2  1874-03-07  Scotland   England         2.0         1.0   Friendly  Glasgow   \n",
       "3  1875-03-06   England  Scotland         2.0         2.0   Friendly   London   \n",
       "4  1876-03-04  Scotland   England         3.0         0.0   Friendly  Glasgow   \n",
       "\n",
       "    country  neutral  \n",
       "0  Scotland    False  \n",
       "1   England    False  \n",
       "2  Scotland    False  \n",
       "3   England    False  \n",
       "4  Scotland    False  "
      ]
     },
     "execution_count": 2,
     "metadata": {},
     "output_type": "execute_result"
    }
   ],
   "source": [
    "# Read the historical match data\n",
    "df=pd.read_csv('../data/results.csv')\n",
    "df=df.sort_index()\n",
    "df.head()"
   ]
  },
  {
   "cell_type": "code",
   "execution_count": 340,
   "metadata": {
    "execution": {
     "iopub.execute_input": "2021-05-03T10:24:03.984893Z",
     "iopub.status.busy": "2021-05-03T10:24:03.983278Z",
     "iopub.status.idle": "2021-05-03T10:24:04.017161Z",
     "shell.execute_reply": "2021-05-03T10:24:04.017649Z"
    },
    "papermill": {
     "duration": 0.050592,
     "end_time": "2021-05-03T10:24:04.017807",
     "exception": false,
     "start_time": "2021-05-03T10:24:03.967215",
     "status": "completed"
    },
    "tags": []
   },
   "outputs": [
    {
     "data": {
      "text/html": [
       "<div>\n",
       "<style scoped>\n",
       "    .dataframe tbody tr th:only-of-type {\n",
       "        vertical-align: middle;\n",
       "    }\n",
       "\n",
       "    .dataframe tbody tr th {\n",
       "        vertical-align: top;\n",
       "    }\n",
       "\n",
       "    .dataframe thead th {\n",
       "        text-align: right;\n",
       "    }\n",
       "</style>\n",
       "<table border=\"1\" class=\"dataframe\">\n",
       "  <thead>\n",
       "    <tr style=\"text-align: right;\">\n",
       "      <th></th>\n",
       "      <th>date</th>\n",
       "      <th>home_team</th>\n",
       "      <th>away_team</th>\n",
       "      <th>home_score</th>\n",
       "      <th>away_score</th>\n",
       "      <th>tournament</th>\n",
       "    </tr>\n",
       "  </thead>\n",
       "  <tbody>\n",
       "    <tr>\n",
       "      <th>0</th>\n",
       "      <td>1872-11-30</td>\n",
       "      <td>Scotland</td>\n",
       "      <td>England</td>\n",
       "      <td>0.0</td>\n",
       "      <td>0.0</td>\n",
       "      <td>Friendly</td>\n",
       "    </tr>\n",
       "    <tr>\n",
       "      <th>1</th>\n",
       "      <td>1873-03-08</td>\n",
       "      <td>England</td>\n",
       "      <td>Scotland</td>\n",
       "      <td>4.0</td>\n",
       "      <td>2.0</td>\n",
       "      <td>Friendly</td>\n",
       "    </tr>\n",
       "    <tr>\n",
       "      <th>2</th>\n",
       "      <td>1874-03-07</td>\n",
       "      <td>Scotland</td>\n",
       "      <td>England</td>\n",
       "      <td>2.0</td>\n",
       "      <td>1.0</td>\n",
       "      <td>Friendly</td>\n",
       "    </tr>\n",
       "    <tr>\n",
       "      <th>3</th>\n",
       "      <td>1875-03-06</td>\n",
       "      <td>England</td>\n",
       "      <td>Scotland</td>\n",
       "      <td>2.0</td>\n",
       "      <td>2.0</td>\n",
       "      <td>Friendly</td>\n",
       "    </tr>\n",
       "    <tr>\n",
       "      <th>4</th>\n",
       "      <td>1876-03-04</td>\n",
       "      <td>Scotland</td>\n",
       "      <td>England</td>\n",
       "      <td>3.0</td>\n",
       "      <td>0.0</td>\n",
       "      <td>Friendly</td>\n",
       "    </tr>\n",
       "  </tbody>\n",
       "</table>\n",
       "</div>"
      ],
      "text/plain": [
       "         date home_team away_team  home_score  away_score tournament\n",
       "0  1872-11-30  Scotland   England         0.0         0.0   Friendly\n",
       "1  1873-03-08   England  Scotland         4.0         2.0   Friendly\n",
       "2  1874-03-07  Scotland   England         2.0         1.0   Friendly\n",
       "3  1875-03-06   England  Scotland         2.0         2.0   Friendly\n",
       "4  1876-03-04  Scotland   England         3.0         0.0   Friendly"
      ]
     },
     "execution_count": 340,
     "metadata": {},
     "output_type": "execute_result"
    }
   ],
   "source": [
    "# Extract the match data that we want\n",
    "fix = df[['date', 'home_team', 'away_team', 'home_score', 'away_score','tournament']]\n",
    "fix.head()"
   ]
  },
  {
   "cell_type": "code",
   "execution_count": 384,
   "metadata": {},
   "outputs": [
    {
     "data": {
      "text/plain": [
       "139"
      ]
     },
     "execution_count": 384,
     "metadata": {},
     "output_type": "execute_result"
    }
   ],
   "source": [
    "len(fix['tournament'].unique())"
   ]
  },
  {
   "cell_type": "code",
   "execution_count": 414,
   "metadata": {},
   "outputs": [],
   "source": [
    "# A simplified version of the FIFA world ranking model:\n",
    "# https://digitalhub.fifa.com/m/f99da4f73212220/original/edbm045h0udbwkqew35a-pdf.pdf\n",
    "\n",
    "# Predicts the expected result: P(A) winning\n",
    "# Based on the elo chess ranking system\n",
    "def expected(a_rating, b_rating):\n",
    "    return 1 / (1 + 10 ** ((b_rating - a_rating) / 600))\n",
    "\n",
    "# Calculate the change in elo comparing the actual result with the expected result\n",
    "def elo(old, exp_p, score, k=25):\n",
    "    # FIFA model adjusts k by competition but I'm lazy\n",
    "    return old + k * (score - exp_p)"
   ]
  },
  {
   "cell_type": "code",
   "execution_count": 415,
   "metadata": {},
   "outputs": [
    {
     "name": "stdout",
     "output_type": "stream",
     "text": [
      "'Asturias'\n",
      "'Crimea'\n",
      "'Crimea'\n",
      "'Crimea'\n",
      "'Crimea'\n",
      "'Crimea'\n",
      "'Two Sicilies'\n",
      "'Two Sicilies'\n",
      "'Two Sicilies'\n",
      "'Two Sicilies'\n",
      "'Surrey'\n",
      "'Maule Sur'\n",
      "'Maule Sur'\n"
     ]
    }
   ],
   "source": [
    "# Calculate the elo over time for each team based on the historical match\n",
    "\n",
    "# initialize ratings to keep track of current values\n",
    "team_names=list(fix['home_team'].unique())\n",
    "current_ratings={}\n",
    "for t in team_names:\n",
    "    current_ratings[t]=1700\n",
    "\n",
    "dates=[]\n",
    "teams=[]\n",
    "ratings=[]\n",
    "    \n",
    "# For each match\n",
    "for index, row in fix.iterrows():\n",
    "\n",
    "    # try/except for some sketchy data\n",
    "    try:\n",
    "        adj_k=35\n",
    "        if row['tournament']=='Friendly':\n",
    "            adj_k=5\n",
    "        new_home_rating=[]\n",
    "        new_away_rating=[]\n",
    "\n",
    "        # Extract teams and current ELO\n",
    "        home_team=row['home_team']\n",
    "        away_team=row['away_team']\n",
    "        home_current=current_ratings[home_team]\n",
    "        away_current=current_ratings[away_team]\n",
    "        \n",
    "        # if home win:\n",
    "        if (row['home_score']>row['away_score']):\n",
    "            home_result=1\n",
    "            away_result=0\n",
    "        # if away win\n",
    "        elif (row['away_score']<row['home_score']):\n",
    "            home_result=0\n",
    "            away_result=1    \n",
    "        # else draw\n",
    "        else:\n",
    "            home_result=0.5\n",
    "            away_result=0.5\n",
    "\n",
    "        # append date, team and rating home\n",
    "        dates.append(row['date'])\n",
    "        teams.append(home_team)\n",
    "        ratings.append(elo(home_current,expected(home_current,away_current),home_result,k=adj_k))\n",
    "        current_ratings[home_team]=elo(home_current,expected(home_current,away_current),home_result,k=adj_k)\n",
    "        \n",
    "        # and the same for the away team\n",
    "        dates.append(row['date'])\n",
    "        teams.append(away_team)\n",
    "        ratings.append(elo(away_current,expected(away_current,home_current),away_result,k=adj_k))\n",
    "        current_ratings[away_team]=elo(away_current,expected(away_current,home_current),away_result,k=adj_k)\n",
    "\n",
    "    except Exception as e:\n",
    "        print(e)\n"
   ]
  },
  {
   "cell_type": "code",
   "execution_count": 416,
   "metadata": {},
   "outputs": [
    {
     "data": {
      "text/html": [
       "<div>\n",
       "<style scoped>\n",
       "    .dataframe tbody tr th:only-of-type {\n",
       "        vertical-align: middle;\n",
       "    }\n",
       "\n",
       "    .dataframe tbody tr th {\n",
       "        vertical-align: top;\n",
       "    }\n",
       "\n",
       "    .dataframe thead th {\n",
       "        text-align: right;\n",
       "    }\n",
       "</style>\n",
       "<table border=\"1\" class=\"dataframe\">\n",
       "  <thead>\n",
       "    <tr style=\"text-align: right;\">\n",
       "      <th></th>\n",
       "      <th>date</th>\n",
       "      <th>team</th>\n",
       "      <th>rating</th>\n",
       "    </tr>\n",
       "    <tr>\n",
       "      <th>date</th>\n",
       "      <th></th>\n",
       "      <th></th>\n",
       "      <th></th>\n",
       "    </tr>\n",
       "  </thead>\n",
       "  <tbody>\n",
       "    <tr>\n",
       "      <th>1872-11-30</th>\n",
       "      <td>1872-11-30</td>\n",
       "      <td>Scotland</td>\n",
       "      <td>1700.000000</td>\n",
       "    </tr>\n",
       "    <tr>\n",
       "      <th>1872-11-30</th>\n",
       "      <td>1872-11-30</td>\n",
       "      <td>England</td>\n",
       "      <td>1700.000000</td>\n",
       "    </tr>\n",
       "    <tr>\n",
       "      <th>1873-03-08</th>\n",
       "      <td>1873-03-08</td>\n",
       "      <td>England</td>\n",
       "      <td>1702.500000</td>\n",
       "    </tr>\n",
       "    <tr>\n",
       "      <th>1873-03-08</th>\n",
       "      <td>1873-03-08</td>\n",
       "      <td>Scotland</td>\n",
       "      <td>1697.500000</td>\n",
       "    </tr>\n",
       "    <tr>\n",
       "      <th>1874-03-07</th>\n",
       "      <td>1874-03-07</td>\n",
       "      <td>Scotland</td>\n",
       "      <td>1700.035975</td>\n",
       "    </tr>\n",
       "  </tbody>\n",
       "</table>\n",
       "</div>"
      ],
      "text/plain": [
       "                  date      team       rating\n",
       "date                                         \n",
       "1872-11-30  1872-11-30  Scotland  1700.000000\n",
       "1872-11-30  1872-11-30   England  1700.000000\n",
       "1873-03-08  1873-03-08   England  1702.500000\n",
       "1873-03-08  1873-03-08  Scotland  1697.500000\n",
       "1874-03-07  1874-03-07  Scotland  1700.035975"
      ]
     },
     "execution_count": 416,
     "metadata": {},
     "output_type": "execute_result"
    }
   ],
   "source": [
    "elo_df=pd.DataFrame({'date': dates,\n",
    "                         'team':teams,\n",
    "                         'rating':ratings\n",
    "                        })\n",
    "elo_df.index=pd.to_datetime(elo_df['date'])\n",
    "elo_df.head()"
   ]
  },
  {
   "cell_type": "code",
   "execution_count": 417,
   "metadata": {},
   "outputs": [],
   "source": [
    "elo_df['team'] = elo_df['team'].replace(['United States'], 'USA')\n",
    "elo_df['team'] = elo_df['team'].replace(['South Korea'], 'Korea Republic')\n"
   ]
  },
  {
   "cell_type": "code",
   "execution_count": 418,
   "metadata": {},
   "outputs": [
    {
     "data": {
      "text/plain": [
       "<matplotlib.legend.Legend at 0x7f97b4956750>"
      ]
     },
     "execution_count": 418,
     "metadata": {},
     "output_type": "execute_result"
    },
    {
     "data": {
      "image/png": "[encoded data removed]",
      "text/plain": [
       "<Figure size 640x480 with 1 Axes>"
      ]
     },
     "metadata": {},
     "output_type": "display_data"
    }
   ],
   "source": [
    "# Visualise a few teams\n",
    "elo_df[elo_df['team']=='Brazil']['rating'].plot(label='Brazil')\n",
    "elo_df[elo_df['team']=='Spain']['rating'].plot(label='Spain')\n",
    "elo_df[elo_df['team']=='Italy']['rating'].plot(label='Italy')\n",
    "elo_df[elo_df['team']=='Germany']['rating'].plot(label='Germany')\n",
    "elo_df[elo_df['team']=='Argentina']['rating'].plot(label='Argentina')\n",
    "elo_df[elo_df['team']=='Iran']['rating'].plot(label='Iran', lw=3)\n",
    "plt.legend()"
   ]
  },
  {
   "cell_type": "code",
   "execution_count": 322,
   "metadata": {},
   "outputs": [],
   "source": [
    "# Lets say we're only interest in the last 4 years of data (inc the last world cup)\n",
    "elo_recent=elo_df.loc['01-01-2018':]\n"
   ]
  },
  {
   "cell_type": "code",
   "execution_count": 391,
   "metadata": {},
   "outputs": [
    {
     "data": {
      "text/html": [
       "<div>\n",
       "<style scoped>\n",
       "    .dataframe tbody tr th:only-of-type {\n",
       "        vertical-align: middle;\n",
       "    }\n",
       "\n",
       "    .dataframe tbody tr th {\n",
       "        vertical-align: top;\n",
       "    }\n",
       "\n",
       "    .dataframe thead th {\n",
       "        text-align: right;\n",
       "    }\n",
       "</style>\n",
       "<table border=\"1\" class=\"dataframe\">\n",
       "  <thead>\n",
       "    <tr style=\"text-align: right;\">\n",
       "      <th></th>\n",
       "      <th>date</th>\n",
       "      <th>team</th>\n",
       "      <th>rating</th>\n",
       "    </tr>\n",
       "    <tr>\n",
       "      <th>date</th>\n",
       "      <th></th>\n",
       "      <th></th>\n",
       "      <th></th>\n",
       "    </tr>\n",
       "  </thead>\n",
       "  <tbody>\n",
       "    <tr>\n",
       "      <th>2022-12-02</th>\n",
       "      <td>2022-12-02</td>\n",
       "      <td>Brazil</td>\n",
       "      <td>1989.655928</td>\n",
       "    </tr>\n",
       "    <tr>\n",
       "      <th>2022-12-02</th>\n",
       "      <td>2022-12-02</td>\n",
       "      <td>Ghana</td>\n",
       "      <td>1689.734797</td>\n",
       "    </tr>\n",
       "    <tr>\n",
       "      <th>2022-12-02</th>\n",
       "      <td>2022-12-02</td>\n",
       "      <td>Uruguay</td>\n",
       "      <td>1788.402805</td>\n",
       "    </tr>\n",
       "    <tr>\n",
       "      <th>2022-12-02</th>\n",
       "      <td>2022-12-02</td>\n",
       "      <td>Korea Republic</td>\n",
       "      <td>1892.861338</td>\n",
       "    </tr>\n",
       "    <tr>\n",
       "      <th>2022-12-02</th>\n",
       "      <td>2022-12-02</td>\n",
       "      <td>Portugal</td>\n",
       "      <td>1895.297602</td>\n",
       "    </tr>\n",
       "  </tbody>\n",
       "</table>\n",
       "</div>"
      ],
      "text/plain": [
       "                  date            team       rating\n",
       "date                                               \n",
       "2022-12-02  2022-12-02          Brazil  1989.655928\n",
       "2022-12-02  2022-12-02           Ghana  1689.734797\n",
       "2022-12-02  2022-12-02         Uruguay  1788.402805\n",
       "2022-12-02  2022-12-02  Korea Republic  1892.861338\n",
       "2022-12-02  2022-12-02        Portugal  1895.297602"
      ]
     },
     "execution_count": 391,
     "metadata": {},
     "output_type": "execute_result"
    }
   ],
   "source": [
    "elo_recent.tail()"
   ]
  },
  {
   "cell_type": "code",
   "execution_count": 323,
   "metadata": {},
   "outputs": [
    {
     "data": {
      "text/html": [
       "<div>\n",
       "<style scoped>\n",
       "    .dataframe tbody tr th:only-of-type {\n",
       "        vertical-align: middle;\n",
       "    }\n",
       "\n",
       "    .dataframe tbody tr th {\n",
       "        vertical-align: top;\n",
       "    }\n",
       "\n",
       "    .dataframe thead th {\n",
       "        text-align: right;\n",
       "    }\n",
       "</style>\n",
       "<table border=\"1\" class=\"dataframe\">\n",
       "  <thead>\n",
       "    <tr style=\"text-align: right;\">\n",
       "      <th></th>\n",
       "      <th>Match Number</th>\n",
       "      <th>Round Number</th>\n",
       "      <th>Date</th>\n",
       "      <th>Location</th>\n",
       "      <th>Home Team</th>\n",
       "      <th>Away Team</th>\n",
       "      <th>Group</th>\n",
       "      <th>Result</th>\n",
       "    </tr>\n",
       "  </thead>\n",
       "  <tbody>\n",
       "    <tr>\n",
       "      <th>0</th>\n",
       "      <td>1</td>\n",
       "      <td>1</td>\n",
       "      <td>20/11/2022 16:00</td>\n",
       "      <td>Al Bayt Stadium</td>\n",
       "      <td>Qatar</td>\n",
       "      <td>Ecuador</td>\n",
       "      <td>Group A</td>\n",
       "      <td>NaN</td>\n",
       "    </tr>\n",
       "    <tr>\n",
       "      <th>1</th>\n",
       "      <td>3</td>\n",
       "      <td>1</td>\n",
       "      <td>21/11/2022 13:00</td>\n",
       "      <td>Khalifa International Stadium</td>\n",
       "      <td>England</td>\n",
       "      <td>Iran</td>\n",
       "      <td>Group B</td>\n",
       "      <td>NaN</td>\n",
       "    </tr>\n",
       "    <tr>\n",
       "      <th>2</th>\n",
       "      <td>2</td>\n",
       "      <td>1</td>\n",
       "      <td>21/11/2022 16:00</td>\n",
       "      <td>Al Thumama Stadium</td>\n",
       "      <td>Senegal</td>\n",
       "      <td>Netherlands</td>\n",
       "      <td>Group A</td>\n",
       "      <td>NaN</td>\n",
       "    </tr>\n",
       "    <tr>\n",
       "      <th>3</th>\n",
       "      <td>4</td>\n",
       "      <td>1</td>\n",
       "      <td>21/11/2022 19:00</td>\n",
       "      <td>Ahmad Bin Ali Stadium</td>\n",
       "      <td>USA</td>\n",
       "      <td>Wales</td>\n",
       "      <td>Group B</td>\n",
       "      <td>NaN</td>\n",
       "    </tr>\n",
       "    <tr>\n",
       "      <th>4</th>\n",
       "      <td>8</td>\n",
       "      <td>1</td>\n",
       "      <td>22/11/2022 10:00</td>\n",
       "      <td>Lusail Stadium</td>\n",
       "      <td>Argentina</td>\n",
       "      <td>Saudi Arabia</td>\n",
       "      <td>Group C</td>\n",
       "      <td>NaN</td>\n",
       "    </tr>\n",
       "  </tbody>\n",
       "</table>\n",
       "</div>"
      ],
      "text/plain": [
       "   Match Number Round Number              Date                       Location  \\\n",
       "0             1            1  20/11/2022 16:00                Al Bayt Stadium   \n",
       "1             3            1  21/11/2022 13:00  Khalifa International Stadium   \n",
       "2             2            1  21/11/2022 16:00             Al Thumama Stadium   \n",
       "3             4            1  21/11/2022 19:00          Ahmad Bin Ali Stadium   \n",
       "4             8            1  22/11/2022 10:00                 Lusail Stadium   \n",
       "\n",
       "   Home Team     Away Team    Group  Result  \n",
       "0      Qatar       Ecuador  Group A     NaN  \n",
       "1    England          Iran  Group B     NaN  \n",
       "2    Senegal   Netherlands  Group A     NaN  \n",
       "3        USA         Wales  Group B     NaN  \n",
       "4  Argentina  Saudi Arabia  Group C     NaN  "
      ]
     },
     "execution_count": 323,
     "metadata": {},
     "output_type": "execute_result"
    }
   ],
   "source": [
    "# Get the world cup fixtures\n",
    "world_cup_schedule=pd.read_csv('../data/fifa-world-cup-2022-UTC.csv')\n",
    "world_cup_schedule.head()"
   ]
  },
  {
   "cell_type": "code",
   "execution_count": 324,
   "metadata": {},
   "outputs": [],
   "source": [
    "# Extract the teams \n",
    "wc_teams=pd.unique(world_cup_schedule[['Home Team','Away Team']].values.ravel()).tolist()\n",
    "\n",
    "# remove TBC match data\n",
    "drop_list=['1A', '2B', '1C', '2D', '1D', '2C',\n",
    "       '1B', '2A', '1E', '2F', '1G', '2H', '1F', '2E', '1H', '2G',\n",
    "       'To be announced']\n",
    "\n",
    "wc_teams=list(set(wc_teams) - set(drop_list))"
   ]
  },
  {
   "cell_type": "code",
   "execution_count": 325,
   "metadata": {},
   "outputs": [],
   "source": [
    "elo_wc=elo_recent[elo_recent['team'].isin(wc_teams)]"
   ]
  },
  {
   "cell_type": "code",
   "execution_count": 326,
   "metadata": {},
   "outputs": [
    {
     "data": {
      "text/plain": [
       "array(['Denmark', 'Morocco', 'Cameroon', 'Korea Republic', 'USA',\n",
       "       'Mexico', 'Saudi Arabia', 'Iran', 'Qatar', 'Wales', 'France',\n",
       "       'Germany', 'Spain', 'Switzerland', 'Argentina', 'Japan',\n",
       "       'Netherlands', 'England', 'Australia', 'Croatia', 'Poland',\n",
       "       'Portugal', 'Brazil', 'Costa Rica', 'Senegal', 'Serbia', 'Tunisia',\n",
       "       'Uruguay', 'Canada', 'Belgium', 'Ghana', 'Ecuador'], dtype=object)"
      ]
     },
     "execution_count": 326,
     "metadata": {},
     "output_type": "execute_result"
    }
   ],
   "source": [
    "elo_wc_teams=elo_wc['team'].unique()\n",
    "elo_wc_teams"
   ]
  },
  {
   "cell_type": "code",
   "execution_count": 327,
   "metadata": {},
   "outputs": [
    {
     "data": {
      "text/plain": [
       "27.139765780414436"
      ]
     },
     "execution_count": 327,
     "metadata": {},
     "output_type": "execute_result"
    }
   ],
   "source": [
    "elo_recent[elo_recent['team']=='Denmark']['rating'].std()"
   ]
  },
  {
   "cell_type": "code",
   "execution_count": 356,
   "metadata": {},
   "outputs": [],
   "source": [
    "def model_game(team_a, team_b, SIM_NO=10000, plot=False, no_std=2):\n",
    "\n",
    "    team_a_sim_elos=[]\n",
    "    team_b_sim_elos=[]\n",
    "\n",
    "    team_a_elo=elo_recent[elo_recent['team']==team_a]['rating'].iloc[-1]\n",
    "    team_a_elo_std=elo_recent[elo_recent['team']==team_a]['rating'].std()\n",
    "\n",
    "    team_b_elo=elo_recent[elo_recent['team']==team_b]['rating'].iloc[-1]\n",
    "    team_b_elo_stdev=elo_recent[elo_recent['team']==team_b]['rating'].std()\n",
    "\n",
    "    print('Modelling: '+team_a+' ('+str(int(team_a_elo))+') vs '+team_b+' ('+str(int(team_b_elo))+')')\n",
    "\n",
    "    for i in range(0,SIM_NO):\n",
    "        team_a_sim_elos.append(random.gauss(team_a_elo, no_std*team_a_elo_std))\n",
    "        team_b_sim_elos.append(random.gauss(team_b_elo, no_std*team_b_elo_stdev))\n",
    "\n",
    "    team_a_results=[]\n",
    "    team_b_results=[]\n",
    "    for i in range(0,SIM_NO):\n",
    "        result=expected(team_a_sim_elos[i], team_b_sim_elos[i])\n",
    "        team_a_results.append(result)\n",
    "        team_b_results.append(1-result)\n",
    "\n",
    "    # # Change of Team A winning\n",
    "    # p_a_win=np.round(100*((np.array(team_a_results)>0.62).sum()/SIM_NO),2)\n",
    "\n",
    "    # # Change of Team A Drawing\n",
    "    # p_draw=np.round(100*(((np.array(team_a_results)>0.38) & (np.array(team_a_results)<0.62)).sum()/SIM_NO),2)\n",
    "\n",
    "    # # Change of Team A Losing\n",
    "    # p_b_win=np.round(100*((np.array(team_a_results)<0.38).sum()/SIM_NO),2)\n",
    "\n",
    "    p_a_win=np.round(np.array(team_a_results).sum()/SIM_NO,2)\n",
    "    p_b_win=np.round(1-p_a_win,2)\n",
    "\n",
    "    result=None\n",
    "    if p_a_win>0.55:\n",
    "        result=team_a+' WIN!'\n",
    "    elif p_a_win<0.45:\n",
    "        result=team_b+' WIN!'\n",
    "    else:\n",
    "        result='DRAW!'\n",
    "    \n",
    "    if plot:\n",
    "        plt.figure(figsize=(10,5))\n",
    "        plt.hist(team_a_results,alpha=0.5,bins=20,label=team_a)\n",
    "        plt.hist(team_b_results,alpha=0.5,bins=20,label=team_b)\n",
    "        plt.legend()\n",
    "        plt.axvline(x=0.5,ls='--',c='k',alpha=0.5)\n",
    "        plt.axvline(x=0.45,ls='--',c='r',alpha=0.5)\n",
    "        plt.axvline(x=0.55,ls='--',c='r',alpha=0.5)\n",
    "\n",
    "        plt.text(x=0.44,y=100,s='Draw  zone',c='r')\n",
    "\n",
    "    \n",
    "\n",
    "    return p_a_win, p_b_win, result"
   ]
  },
  {
   "cell_type": "code",
   "execution_count": 357,
   "metadata": {},
   "outputs": [
    {
     "name": "stdout",
     "output_type": "stream",
     "text": [
      "Modelling: Senegal (1801) vs Netherlands (1919)\n"
     ]
    },
    {
     "data": {
      "text/plain": [
       "(0.39, 0.61, 'Netherlands WIN!')"
      ]
     },
     "execution_count": 357,
     "metadata": {},
     "output_type": "execute_result"
    },
    {
     "data": {
      "image/png": "[encoded data removed]",
      "text/plain": [
       "<Figure size 1000x500 with 1 Axes>"
      ]
     },
     "metadata": {},
     "output_type": "display_data"
    }
   ],
   "source": [
    "model_game('Senegal','Netherlands',plot=True)\n",
    "\n"
   ]
  },
  {
   "cell_type": "code",
   "execution_count": 358,
   "metadata": {},
   "outputs": [
    {
     "name": "stdout",
     "output_type": "stream",
     "text": [
      "'Asturias'\n",
      "'Crimea'\n",
      "'Crimea'\n",
      "'Crimea'\n",
      "'Crimea'\n",
      "'Crimea'\n",
      "'Two Sicilies'\n",
      "'Two Sicilies'\n",
      "'Two Sicilies'\n",
      "'Two Sicilies'\n",
      "'Surrey'\n",
      "'Maule Sur'\n",
      "'Maule Sur'\n"
     ]
    }
   ],
   "source": [
    "# Let's re-calculate the elo over time for each team based on the historical match with some extra features\n",
    "\n",
    "# initialize ratings to keep track of current values\n",
    "team_names=list(fix['home_team'].unique())\n",
    "current_ratings={}\n",
    "for t in team_names:\n",
    "    current_ratings[t]=1500\n",
    "\n",
    "dates=[]\n",
    "teams=[]\n",
    "ratings=[]\n",
    "\n",
    "# New features\n",
    "opponent_rating=[]\n",
    "goals_scored=[]\n",
    "goals_conceded=[]\n",
    "    \n",
    "# For each match\n",
    "for index, row in fix.iterrows():\n",
    "\n",
    "    # try/except for some sketchy data\n",
    "    try:\n",
    "        adj_k=35\n",
    "        if row['tournament']=='Friendly':\n",
    "            adj_k=10\n",
    "\n",
    "        new_home_rating=[]\n",
    "        new_away_rating=[]\n",
    "\n",
    "        # Extract teams and current ELO\n",
    "        home_team=row['home_team']\n",
    "        away_team=row['away_team']\n",
    "        home_current=current_ratings[home_team]\n",
    "        away_current=current_ratings[away_team]\n",
    "        \n",
    "        # if home win:\n",
    "        if (row['home_score']>row['away_score']):\n",
    "            home_result=1\n",
    "            away_result=0\n",
    "        # if away win\n",
    "        elif (row['away_score']<row['home_score']):\n",
    "            home_result=0\n",
    "            away_result=1    \n",
    "        # else draw\n",
    "        else:\n",
    "            home_result=0.5\n",
    "            away_result=0.5\n",
    "\n",
    "        # append date, team and rating home\n",
    "        dates.append(row['date'])\n",
    "        teams.append(home_team)\n",
    "        ratings.append(elo(home_current,expected(home_current,away_current),home_result,k=adj_k))\n",
    "        current_ratings[home_team]=elo(home_current,expected(home_current,away_current),home_result,k=adj_k)\n",
    "        opponent_rating.append(away_current)\n",
    "        goals_scored.append(row['home_score'])\n",
    "        goals_conceded.append(row['away_score'])\n",
    "        \n",
    "        # and the same for the away team\n",
    "        dates.append(row['date'])\n",
    "        teams.append(away_team)\n",
    "        ratings.append(elo(away_current,expected(away_current,home_current),away_result,k=adj_k))\n",
    "        current_ratings[away_team]=elo(away_current,expected(away_current,home_current),away_result,k=adj_k)\n",
    "        opponent_rating.append(home_current)\n",
    "        goals_scored.append(row['away_score'])\n",
    "        goals_conceded.append(row['home_score'])\n",
    "\n",
    "    except Exception as e:\n",
    "        print(e)\n"
   ]
  },
  {
   "cell_type": "code",
   "execution_count": 359,
   "metadata": {},
   "outputs": [],
   "source": [
    "elo_df_ext=pd.DataFrame({'date': dates,\n",
    "                         'team':teams,\n",
    "                         'rating':ratings,\n",
    "                         'opponent_rating':opponent_rating,\n",
    "                         'goals_scored':goals_scored,\n",
    "                         'goals_conceded': goals_conceded\n",
    "                        })\n",
    "elo_df_ext.index=pd.to_datetime(elo_df_ext['date'])\n",
    "elo_df_ext.head()\n",
    "\n",
    "elo_df_ext['team'] = elo_df_ext['team'].replace(['United States'], 'USA')\n",
    "elo_df_ext['team'] = elo_df_ext['team'].replace(['South Korea'], 'Korea Republic')\n"
   ]
  },
  {
   "cell_type": "code",
   "execution_count": 360,
   "metadata": {},
   "outputs": [],
   "source": [
    "elo_df_ext_recent=elo_df_ext.loc['01-01-2018':]"
   ]
  },
  {
   "cell_type": "code",
   "execution_count": 361,
   "metadata": {},
   "outputs": [],
   "source": [
    "elo_df_ext_wc=elo_df_ext_recent[elo_df_ext_recent['team'].isin(wc_teams)]"
   ]
  },
  {
   "cell_type": "code",
   "execution_count": 421,
   "metadata": {},
   "outputs": [
    {
     "data": {
      "text/plain": [
       "Friendly                                17461\n",
       "FIFA World Cup qualification             7774\n",
       "UEFA Euro qualification                  2593\n",
       "African Cup of Nations qualification     1932\n",
       "FIFA World Cup                            948\n",
       "Copa América                              841\n",
       "AFC Asian Cup qualification               764\n",
       "African Cup of Nations                    742\n",
       "CECAFA Cup                                620\n",
       "CFU Caribbean Cup qualification           606\n",
       "Merdeka Tournament                        595\n",
       "British Championship                      505\n",
       "UEFA Nations League                       468\n",
       "Gulf Cup                                  380\n",
       "AFC Asian Cup                             370\n",
       "Gold Cup                                  358\n",
       "Island Games                              350\n",
       "UEFA Euro                                 337\n",
       "COSAFA Cup                                309\n",
       "AFF Championship                          293\n",
       "Name: tournament, dtype: int64"
      ]
     },
     "execution_count": 421,
     "metadata": {},
     "output_type": "execute_result"
    }
   ],
   "source": [
    "fix['tournament'].value_counts()[:20]"
   ]
  },
  {
   "cell_type": "code",
   "execution_count": 362,
   "metadata": {},
   "outputs": [
    {
     "name": "stdout",
     "output_type": "stream",
     "text": [
      "Processing Canada (46 matches)\n",
      "Processing Iran (49 matches)\n",
      "Processing Uruguay (52 matches)\n",
      "Processing Cameroon (45 matches)\n",
      "Processing Australia (39 matches)\n",
      "Processing Korea Republic (62 matches)\n",
      "Processing Morocco (59 matches)\n",
      "Processing Denmark (59 matches)\n",
      "Processing Poland (55 matches)\n",
      "Processing USA (67 matches)\n",
      "Processing Saudi Arabia (65 matches)\n",
      "Processing Croatia (60 matches)\n",
      "Processing Ecuador (50 matches)\n",
      "Processing Serbia (53 matches)\n",
      "Processing Costa Rica (62 matches)\n",
      "Processing Mexico (78 matches)\n",
      "Processing Wales (52 matches)\n",
      "Processing Germany (56 matches)\n",
      "Processing Senegal (56 matches)\n",
      "Processing Switzerland (57 matches)\n",
      "Processing Portugal (57 matches)\n",
      "Processing France (61 matches)\n",
      "Processing Argentina (57 matches)\n",
      "Processing Ghana (38 matches)\n",
      "Processing Qatar (69 matches)\n",
      "Processing Tunisia (61 matches)\n",
      "Processing Spain (58 matches)\n",
      "Processing Japan (62 matches)\n",
      "Processing Brazil (59 matches)\n",
      "Processing Belgium (60 matches)\n",
      "Processing England (62 matches)\n",
      "Processing Netherlands (52 matches)\n"
     ]
    }
   ],
   "source": [
    "# Train 'goal scoring' and 'goal conceding models'\n",
    "\n",
    "from sklearn import linear_model\n",
    "\n",
    "\n",
    "gs_models={}\n",
    "gc_models={}\n",
    "\n",
    "scaler = MinMaxScaler(feature_range=(0,5))\n",
    "scaler.fit(elo_df_ext_wc[['rating','opponent_rating']].values)\n",
    "\n",
    "\n",
    "for t in wc_teams:\n",
    "    \n",
    "    data=elo_df_ext_wc[elo_df_ext_wc['team']==t].dropna()\n",
    "    print('Processing '+t+' ('+str(len(data))+' matches)')\n",
    "    X=scaler.transform(data[['rating','opponent_rating']].values)\n",
    "    y_gs=data[['goals_scored']].values.ravel()\n",
    "    y_gc=data[['goals_conceded']].values.ravel()\n",
    "\n",
    "    # model_gs = SVR(kernel=\"rbf\", C=100, gamma=0.1, epsilon=0.1)\n",
    "    model_gs = linear_model.Ridge(alpha=.5)\n",
    "    model_gs.fit(X, y_gs)\n",
    "    gs_models[t]=model_gs\n",
    "\n",
    "    # model_gc = SVR(kernel=\"rbf\", C=100, gamma=0.1, epsilon=0.1)\n",
    "    model_gc = linear_model.Ridge(alpha=.5)\n",
    "    model_gc.fit(X, y_gc)\n",
    "    gc_models[t]=model_gc\n"
   ]
  },
  {
   "cell_type": "code",
   "execution_count": 363,
   "metadata": {},
   "outputs": [
    {
     "data": {
      "text/plain": [
       "array([3.22145774])"
      ]
     },
     "execution_count": 363,
     "metadata": {},
     "output_type": "execute_result"
    }
   ],
   "source": [
    "# Test the model\n",
    "gs_models['Brazil'].predict(scaler.transform(np.array([1900,1500]).reshape(1,-1)))"
   ]
  },
  {
   "cell_type": "code",
   "execution_count": 364,
   "metadata": {},
   "outputs": [
    {
     "data": {
      "text/plain": [
       "array([0.23777198])"
      ]
     },
     "execution_count": 364,
     "metadata": {},
     "output_type": "execute_result"
    }
   ],
   "source": [
    "# Test the model\n",
    "gc_models['Brazil'].predict(scaler.transform(np.array([1900,1500]).reshape(1,-1)))"
   ]
  },
  {
   "cell_type": "code",
   "execution_count": 388,
   "metadata": {},
   "outputs": [],
   "source": [
    "def model_game_goals(team_a, team_b):\n",
    "\n",
    "    team_a_elo=elo_df_ext_wc[elo_df_ext_wc['team']==team_a]['rating'].iloc[-1]\n",
    "    team_b_elo=elo_df_ext_wc[elo_df_ext_wc['team']==team_b]['rating'].iloc[-1]\n",
    "    \n",
    "    team_a_goals_scored=gs_models[team_a].predict(scaler.transform(np.array([team_a_elo,team_b_elo]).reshape(1,-1)))\n",
    "    team_b_goals_conceded=gc_models[team_b].predict(scaler.transform(np.array([team_b_elo,team_a_elo]).reshape(1,-1)))\n",
    "    team_a_ave_goals=np.round((team_a_goals_scored+team_b_goals_conceded)/2,0)\n",
    "\n",
    "    team_b_goals_scored=gs_models[team_b].predict(scaler.transform(np.array([team_b_elo,team_a_elo]).reshape(1,-1)))\n",
    "    team_a_goals_conceded=gc_models[team_a].predict(scaler.transform(np.array([team_a_elo,team_b_elo]).reshape(1,-1)))\n",
    "    team_b_ave_goals=np.round((team_b_goals_scored+team_a_goals_conceded)/2,0)\n",
    "\n",
    "    # return team_a_ave_goals, team_b_ave_goals\n",
    "    return team_a_goals_scored, team_b_goals_scored, team_a_goals_conceded, team_b_goals_conceded, team_a_elo, team_b_elo\n",
    "    "
   ]
  },
  {
   "cell_type": "code",
   "execution_count": 389,
   "metadata": {},
   "outputs": [
    {
     "data": {
      "text/plain": [
       "(array([1.39264302]),\n",
       " array([1.06889885]),\n",
       " array([1.11417682]),\n",
       " array([0.39084681]),\n",
       " 1753.6358308371887,\n",
       " 1651.6506345535506)"
      ]
     },
     "execution_count": 389,
     "metadata": {},
     "output_type": "execute_result"
    }
   ],
   "source": [
    "model_game_goals('Qatar', 'Ecuador')"
   ]
  },
  {
   "cell_type": "code",
   "execution_count": 369,
   "metadata": {},
   "outputs": [
    {
     "data": {
      "text/plain": [
       "2094.9062297849005"
      ]
     },
     "execution_count": 369,
     "metadata": {},
     "output_type": "execute_result"
    }
   ],
   "source": [
    "elo_df[elo_df['team']=='Brazil']['rating'].iloc[-1]"
   ]
  },
  {
   "cell_type": "code",
   "execution_count": 370,
   "metadata": {},
   "outputs": [
    {
     "data": {
      "text/plain": [
       "1989.6559279611547"
      ]
     },
     "execution_count": 370,
     "metadata": {},
     "output_type": "execute_result"
    }
   ],
   "source": [
    "elo_recent[elo_recent['team']=='Brazil']['rating'].iloc[-1]"
   ]
  },
  {
   "cell_type": "code",
   "execution_count": 402,
   "metadata": {},
   "outputs": [
    {
     "data": {
      "text/html": [
       "<div>\n",
       "<style scoped>\n",
       "    .dataframe tbody tr th:only-of-type {\n",
       "        vertical-align: middle;\n",
       "    }\n",
       "\n",
       "    .dataframe tbody tr th {\n",
       "        vertical-align: top;\n",
       "    }\n",
       "\n",
       "    .dataframe thead th {\n",
       "        text-align: right;\n",
       "    }\n",
       "</style>\n",
       "<table border=\"1\" class=\"dataframe\">\n",
       "  <thead>\n",
       "    <tr style=\"text-align: right;\">\n",
       "      <th></th>\n",
       "      <th>date</th>\n",
       "      <th>team</th>\n",
       "      <th>rating</th>\n",
       "    </tr>\n",
       "    <tr>\n",
       "      <th>date</th>\n",
       "      <th></th>\n",
       "      <th></th>\n",
       "      <th></th>\n",
       "    </tr>\n",
       "  </thead>\n",
       "  <tbody>\n",
       "    <tr>\n",
       "      <th>2022-09-23</th>\n",
       "      <td>2022-09-23</td>\n",
       "      <td>Brazil</td>\n",
       "      <td>2106.738423</td>\n",
       "    </tr>\n",
       "    <tr>\n",
       "      <th>2022-09-27</th>\n",
       "      <td>2022-09-27</td>\n",
       "      <td>Brazil</td>\n",
       "      <td>2108.062136</td>\n",
       "    </tr>\n",
       "    <tr>\n",
       "      <th>2022-11-24</th>\n",
       "      <td>2022-11-24</td>\n",
       "      <td>Brazil</td>\n",
       "      <td>2100.453817</td>\n",
       "    </tr>\n",
       "    <tr>\n",
       "      <th>2022-11-28</th>\n",
       "      <td>2022-11-28</td>\n",
       "      <td>Brazil</td>\n",
       "      <td>2093.989481</td>\n",
       "    </tr>\n",
       "    <tr>\n",
       "      <th>2022-12-02</th>\n",
       "      <td>2022-12-02</td>\n",
       "      <td>Brazil</td>\n",
       "      <td>2086.086525</td>\n",
       "    </tr>\n",
       "  </tbody>\n",
       "</table>\n",
       "</div>"
      ],
      "text/plain": [
       "                  date    team       rating\n",
       "date                                       \n",
       "2022-09-23  2022-09-23  Brazil  2106.738423\n",
       "2022-09-27  2022-09-27  Brazil  2108.062136\n",
       "2022-11-24  2022-11-24  Brazil  2100.453817\n",
       "2022-11-28  2022-11-28  Brazil  2093.989481\n",
       "2022-12-02  2022-12-02  Brazil  2086.086525"
      ]
     },
     "execution_count": 402,
     "metadata": {},
     "output_type": "execute_result"
    }
   ],
   "source": [
    "elo_df[elo_df['team']=='Brazil'].dropna().tail()"
   ]
  },
  {
   "cell_type": "code",
   "execution_count": 407,
   "metadata": {},
   "outputs": [
    {
     "data": {
      "text/html": [
       "<div>\n",
       "<style scoped>\n",
       "    .dataframe tbody tr th:only-of-type {\n",
       "        vertical-align: middle;\n",
       "    }\n",
       "\n",
       "    .dataframe tbody tr th {\n",
       "        vertical-align: top;\n",
       "    }\n",
       "\n",
       "    .dataframe thead th {\n",
       "        text-align: right;\n",
       "    }\n",
       "</style>\n",
       "<table border=\"1\" class=\"dataframe\">\n",
       "  <thead>\n",
       "    <tr style=\"text-align: right;\">\n",
       "      <th></th>\n",
       "      <th>date</th>\n",
       "      <th>team</th>\n",
       "      <th>rating</th>\n",
       "    </tr>\n",
       "    <tr>\n",
       "      <th>date</th>\n",
       "      <th></th>\n",
       "      <th></th>\n",
       "      <th></th>\n",
       "    </tr>\n",
       "  </thead>\n",
       "  <tbody>\n",
       "    <tr>\n",
       "      <th>2022-09-26</th>\n",
       "      <td>2022-09-26</td>\n",
       "      <td>Germany</td>\n",
       "      <td>1955.366380</td>\n",
       "    </tr>\n",
       "    <tr>\n",
       "      <th>2022-11-16</th>\n",
       "      <td>2022-11-16</td>\n",
       "      <td>Germany</td>\n",
       "      <td>1954.688991</td>\n",
       "    </tr>\n",
       "    <tr>\n",
       "      <th>2022-11-23</th>\n",
       "      <td>2022-11-23</td>\n",
       "      <td>Germany</td>\n",
       "      <td>1956.636268</td>\n",
       "    </tr>\n",
       "    <tr>\n",
       "      <th>2022-11-27</th>\n",
       "      <td>2022-11-27</td>\n",
       "      <td>Germany</td>\n",
       "      <td>1957.100944</td>\n",
       "    </tr>\n",
       "    <tr>\n",
       "      <th>2022-12-01</th>\n",
       "      <td>2022-12-01</td>\n",
       "      <td>Germany</td>\n",
       "      <td>1955.870433</td>\n",
       "    </tr>\n",
       "  </tbody>\n",
       "</table>\n",
       "</div>"
      ],
      "text/plain": [
       "                  date     team       rating\n",
       "date                                        \n",
       "2022-09-26  2022-09-26  Germany  1955.366380\n",
       "2022-11-16  2022-11-16  Germany  1954.688991\n",
       "2022-11-23  2022-11-23  Germany  1956.636268\n",
       "2022-11-27  2022-11-27  Germany  1957.100944\n",
       "2022-12-01  2022-12-01  Germany  1955.870433"
      ]
     },
     "execution_count": 407,
     "metadata": {},
     "output_type": "execute_result"
    }
   ],
   "source": [
    "elo_df[elo_df['team']=='Germany'].dropna().tail()"
   ]
  },
  {
   "cell_type": "code",
   "execution_count": null,
   "metadata": {},
   "outputs": [],
   "source": []
  }
 ],
 "metadata": {
  "kernelspec": {
   "display_name": "Python 3.7.8 ('venv': venv)",
   "language": "python",
   "name": "python3"
  },
  "language_info": {
   "codemirror_mode": {
    "name": "ipython",
    "version": 3
   },
   "file_extension": ".py",
   "mimetype": "text/x-python",
   "name": "python",
   "nbconvert_exporter": "python",
   "pygments_lexer": "ipython3",
   "version": "3.7.8"
  },
  "papermill": {
   "duration": 12.00183,
   "end_time": "2021-05-03T10:24:10.439678",
   "environment_variables": {},
   "exception": null,
   "input_path": "__notebook__.ipynb",
   "output_path": "__notebook__.ipynb",
   "parameters": {},
   "start_time": "2021-05-03T10:23:58.437848",
   "version": "2.1.0"
  },
  "vscode": {
   "interpreter": {
    "hash": "70669237f17bac87fad1c223068ea95039d52f09e91cd83a5777086f6dd8a3f6"
   }
  }
 },
 "nbformat": 4,
 "nbformat_minor": 4
}
